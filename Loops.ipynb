{
 "cells": [
  {
   "cell_type": "markdown",
   "metadata": {},
   "source": [
    "infinite loop in Python"
   ]
  },
  {
   "cell_type": "code",
   "execution_count": null,
   "metadata": {},
   "outputs": [
    {
     "name": "stdout",
     "output_type": "stream",
     "text": [
      "Enter an integer: 1\n",
      "The double of 1 is 2\n",
      "Enter an integer: 1\n",
      "The double of 1 is 2\n"
     ]
    }
   ],
   "source": [
    "# An example of infinite loop\n",
    "# press Ctrl + c to exit from the loop\n",
    "\n",
    "while True:\n",
    "   num = int(input(\"Enter an integer: \"))\n",
    "   print(\"The double of\",num,\"is\",2 * num)"
   ]
  },
  {
   "cell_type": "markdown",
   "metadata": {},
   "source": [
    "looping with condition at top"
   ]
  },
  {
   "cell_type": "code",
   "execution_count": 2,
   "metadata": {},
   "outputs": [
    {
     "name": "stdout",
     "output_type": "stream",
     "text": [
      "The sum is 55\n"
     ]
    }
   ],
   "source": [
    "# Program to illustrate a loop with condition at the top\n",
    "\n",
    "# Try different numbers\n",
    "n = 10\n",
    "\n",
    "# Uncomment to get user input\n",
    "#n = int(input(\"Enter n: \"))\n",
    "\n",
    "# initialize sum and counter\n",
    "sum = 0\n",
    "i = 1\n",
    "\n",
    "while i <= n:\n",
    "   sum = sum + i\n",
    "   i = i+1    # update counter\n",
    "\n",
    "# print the sum\n",
    "print(\"The sum is\",sum)"
   ]
  },
  {
   "cell_type": "markdown",
   "metadata": {},
   "source": [
    "Loop with condition in the middle\n"
   ]
  },
  {
   "cell_type": "code",
   "execution_count": null,
   "metadata": {},
   "outputs": [
    {
     "name": "stdout",
     "output_type": "stream",
     "text": [
      "Enter a vowel: y\n",
      "That is not a vowel. Try again!\n"
     ]
    }
   ],
   "source": [
    "vowels = \"aeiouAEIOU\"\n",
    "\n",
    "# infinite loop\n",
    "while True:\n",
    "   v = input(\"Enter a vowel: \")\n",
    "   # condition in the middle\n",
    "   if v in vowels:\n",
    "       break\n",
    "   print(\"That is not a vowel. Try again!\")\n",
    "\n",
    "print(\"Thank you!\")"
   ]
  },
  {
   "cell_type": "code",
   "execution_count": null,
   "metadata": {},
   "outputs": [
    {
     "name": "stdout",
     "output_type": "stream",
     "text": [
      "Press enter to roll the dice6\n",
      "You got 2\n",
      "Roll again?(y/n) 6\n"
     ]
    }
   ],
   "source": [
    "import random\n",
    "\n",
    "while True:\n",
    "   input(\"Press enter to roll the dice\")\n",
    "\n",
    "   # get a number between 1 to 6\n",
    "   num = random.randint(1,6)\n",
    "   print(\"You got\",num)\n",
    "   option = input(\"Roll again?(y/n) \")\n",
    "\n",
    "   # condition\n",
    "   if option == 'n':\n",
    "       break"
   ]
  },
  {
   "cell_type": "code",
   "execution_count": null,
   "metadata": {},
   "outputs": [],
   "source": []
  }
 ],
 "metadata": {
  "kernelspec": {
   "display_name": "Python 3",
   "language": "python",
   "name": "python3"
  },
  "language_info": {
   "codemirror_mode": {
    "name": "ipython",
    "version": 3
   },
   "file_extension": ".py",
   "mimetype": "text/x-python",
   "name": "python",
   "nbconvert_exporter": "python",
   "pygments_lexer": "ipython3",
   "version": "3.6.4"
  }
 },
 "nbformat": 4,
 "nbformat_minor": 2
}
